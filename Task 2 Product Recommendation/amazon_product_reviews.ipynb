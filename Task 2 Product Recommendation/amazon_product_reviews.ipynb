{
  "metadata": {
    "kernelspec": {
      "language": "python",
      "display_name": "Python 3",
      "name": "python3"
    },
    "language_info": {
      "name": "python",
      "version": "3.10.12",
      "mimetype": "text/x-python",
      "codemirror_mode": {
        "name": "ipython",
        "version": 3
      },
      "pygments_lexer": "ipython3",
      "nbconvert_exporter": "python",
      "file_extension": ".py"
    },
    "colab": {
      "provenance": [],
      "collapsed_sections": [
        "gyA_J7blGT2j",
        "LSF3qUp7GT2l",
        "vsv9na_0GT3A",
        "5x4B9vZjpRgh"
      ]
    }
  },
  "nbformat_minor": 0,
  "nbformat": 4,
  "cells": [
    {
      "cell_type": "markdown",
      "source": [
        "# Libraries"
      ],
      "metadata": {
        "id": "gyA_J7blGT2j"
      }
    },
    {
      "cell_type": "code",
      "source": [
        "# Disable all warnings\n",
        "import warnings\n",
        "warnings.filterwarnings('ignore')"
      ],
      "metadata": {
        "id": "eCO9BtdEGT2j",
        "execution": {
          "iopub.status.busy": "2023-08-03T13:38:28.591709Z",
          "iopub.execute_input": "2023-08-03T13:38:28.592162Z",
          "iopub.status.idle": "2023-08-03T13:38:28.605540Z",
          "shell.execute_reply.started": "2023-08-03T13:38:28.592125Z",
          "shell.execute_reply": "2023-08-03T13:38:28.604144Z"
        },
        "trusted": true
      },
      "execution_count": null,
      "outputs": []
    },
    {
      "cell_type": "code",
      "source": [
        "import pandas as pd\n",
        "import numpy as np\n",
        "from sklearn.cluster import KMeans\n",
        "from sklearn.metrics.pairwise import cosine_similarity"
      ],
      "metadata": {
        "id": "wDhBsIPwGT2k",
        "execution": {
          "iopub.status.busy": "2023-08-03T13:38:28.607756Z",
          "iopub.execute_input": "2023-08-03T13:38:28.608875Z",
          "iopub.status.idle": "2023-08-03T13:38:29.252265Z",
          "shell.execute_reply.started": "2023-08-03T13:38:28.608840Z",
          "shell.execute_reply": "2023-08-03T13:38:29.250978Z"
        },
        "trusted": true
      },
      "execution_count": null,
      "outputs": []
    },
    {
      "cell_type": "markdown",
      "source": [
        "# Read the Data"
      ],
      "metadata": {
        "id": "LSF3qUp7GT2l"
      }
    },
    {
      "cell_type": "code",
      "source": [
        "Amazon_Reviews_dataset = pd.read_csv(\"Reviews.csv\")\n",
        "Amazon_Reviews_dataset"
      ],
      "metadata": {
        "colab": {
          "base_uri": "https://localhost:8080/",
          "height": 1000
        },
        "id": "OMvj91OOGT2l",
        "outputId": "664f9887-9652-40fe-c412-7a310416c64c",
        "execution": {
          "iopub.status.busy": "2023-08-03T13:38:29.253593Z",
          "iopub.execute_input": "2023-08-03T13:38:29.253928Z",
          "iopub.status.idle": "2023-08-03T13:38:34.135786Z",
          "shell.execute_reply.started": "2023-08-03T13:38:29.253899Z",
          "shell.execute_reply": "2023-08-03T13:38:34.134724Z"
        },
        "trusted": true
      },
      "execution_count": null,
      "outputs": [
        {
          "execution_count": 3,
          "output_type": "execute_result",
          "data": {
            "text/plain": "            Id   ProductId          UserId                      ProfileName  \\\n0            1  B001E4KFG0  A3SGXH7AUHU8GW                       delmartian   \n1            2  B00813GRG4  A1D87F6ZCVE5NK                           dll pa   \n2            3  B000LQOCH0   ABXLMWJIXXAIN  Natalia Corres \"Natalia Corres\"   \n3            4  B000UA0QIQ  A395BORC6FGVXV                             Karl   \n4            5  B006K2ZZ7K  A1UQRSCLF8GW1T    Michael D. Bigham \"M. Wassir\"   \n...        ...         ...             ...                              ...   \n568449  568450  B001EO7N10  A28KG5XORO54AY                 Lettie D. Carter   \n568450  568451  B003S1WTCU  A3I8AFVPEE8KI5                        R. Sawyer   \n568451  568452  B004I613EE  A121AA1GQV751Z                    pksd \"pk_007\"   \n568452  568453  B004I613EE   A3IBEVCTXKNOH          Kathy A. Welch \"katwel\"   \n568453  568454  B001LR2CU2  A3LGQPJCZVL9UC                         srfell17   \n\n        HelpfulnessNumerator  HelpfulnessDenominator  Score        Time  \\\n0                          1                       1      5  1303862400   \n1                          0                       0      1  1346976000   \n2                          1                       1      4  1219017600   \n3                          3                       3      2  1307923200   \n4                          0                       0      5  1350777600   \n...                      ...                     ...    ...         ...   \n568449                     0                       0      5  1299628800   \n568450                     0                       0      2  1331251200   \n568451                     2                       2      5  1329782400   \n568452                     1                       1      5  1331596800   \n568453                     0                       0      5  1338422400   \n\n                                   Summary  \\\n0                    Good Quality Dog Food   \n1                        Not as Advertised   \n2                    \"Delight\" says it all   \n3                           Cough Medicine   \n4                              Great taffy   \n...                                    ...   \n568449                 Will not do without   \n568450                        disappointed   \n568451            Perfect for our maltipoo   \n568452  Favorite Training and reward treat   \n568453                         Great Honey   \n\n                                                     Text  \n0       I have bought several of the Vitality canned d...  \n1       Product arrived labeled as Jumbo Salted Peanut...  \n2       This is a confection that has been around a fe...  \n3       If you are looking for the secret ingredient i...  \n4       Great taffy at a great price.  There was a wid...  \n...                                                   ...  \n568449  Great for sesame chicken..this is a good if no...  \n568450  I'm disappointed with the flavor. The chocolat...  \n568451  These stars are small, so you can give 10-15 o...  \n568452  These are the BEST treats for training and rew...  \n568453  I am very satisfied ,product is as advertised,...  \n\n[568454 rows x 10 columns]",
            "text/html": "<div>\n<style scoped>\n    .dataframe tbody tr th:only-of-type {\n        vertical-align: middle;\n    }\n\n    .dataframe tbody tr th {\n        vertical-align: top;\n    }\n\n    .dataframe thead th {\n        text-align: right;\n    }\n</style>\n<table border=\"1\" class=\"dataframe\">\n  <thead>\n    <tr style=\"text-align: right;\">\n      <th></th>\n      <th>Id</th>\n      <th>ProductId</th>\n      <th>UserId</th>\n      <th>ProfileName</th>\n      <th>HelpfulnessNumerator</th>\n      <th>HelpfulnessDenominator</th>\n      <th>Score</th>\n      <th>Time</th>\n      <th>Summary</th>\n      <th>Text</th>\n    </tr>\n  </thead>\n  <tbody>\n    <tr>\n      <th>0</th>\n      <td>1</td>\n      <td>B001E4KFG0</td>\n      <td>A3SGXH7AUHU8GW</td>\n      <td>delmartian</td>\n      <td>1</td>\n      <td>1</td>\n      <td>5</td>\n      <td>1303862400</td>\n      <td>Good Quality Dog Food</td>\n      <td>I have bought several of the Vitality canned d...</td>\n    </tr>\n    <tr>\n      <th>1</th>\n      <td>2</td>\n      <td>B00813GRG4</td>\n      <td>A1D87F6ZCVE5NK</td>\n      <td>dll pa</td>\n      <td>0</td>\n      <td>0</td>\n      <td>1</td>\n      <td>1346976000</td>\n      <td>Not as Advertised</td>\n      <td>Product arrived labeled as Jumbo Salted Peanut...</td>\n    </tr>\n    <tr>\n      <th>2</th>\n      <td>3</td>\n      <td>B000LQOCH0</td>\n      <td>ABXLMWJIXXAIN</td>\n      <td>Natalia Corres \"Natalia Corres\"</td>\n      <td>1</td>\n      <td>1</td>\n      <td>4</td>\n      <td>1219017600</td>\n      <td>\"Delight\" says it all</td>\n      <td>This is a confection that has been around a fe...</td>\n    </tr>\n    <tr>\n      <th>3</th>\n      <td>4</td>\n      <td>B000UA0QIQ</td>\n      <td>A395BORC6FGVXV</td>\n      <td>Karl</td>\n      <td>3</td>\n      <td>3</td>\n      <td>2</td>\n      <td>1307923200</td>\n      <td>Cough Medicine</td>\n      <td>If you are looking for the secret ingredient i...</td>\n    </tr>\n    <tr>\n      <th>4</th>\n      <td>5</td>\n      <td>B006K2ZZ7K</td>\n      <td>A1UQRSCLF8GW1T</td>\n      <td>Michael D. Bigham \"M. Wassir\"</td>\n      <td>0</td>\n      <td>0</td>\n      <td>5</td>\n      <td>1350777600</td>\n      <td>Great taffy</td>\n      <td>Great taffy at a great price.  There was a wid...</td>\n    </tr>\n    <tr>\n      <th>...</th>\n      <td>...</td>\n      <td>...</td>\n      <td>...</td>\n      <td>...</td>\n      <td>...</td>\n      <td>...</td>\n      <td>...</td>\n      <td>...</td>\n      <td>...</td>\n      <td>...</td>\n    </tr>\n    <tr>\n      <th>568449</th>\n      <td>568450</td>\n      <td>B001EO7N10</td>\n      <td>A28KG5XORO54AY</td>\n      <td>Lettie D. Carter</td>\n      <td>0</td>\n      <td>0</td>\n      <td>5</td>\n      <td>1299628800</td>\n      <td>Will not do without</td>\n      <td>Great for sesame chicken..this is a good if no...</td>\n    </tr>\n    <tr>\n      <th>568450</th>\n      <td>568451</td>\n      <td>B003S1WTCU</td>\n      <td>A3I8AFVPEE8KI5</td>\n      <td>R. Sawyer</td>\n      <td>0</td>\n      <td>0</td>\n      <td>2</td>\n      <td>1331251200</td>\n      <td>disappointed</td>\n      <td>I'm disappointed with the flavor. The chocolat...</td>\n    </tr>\n    <tr>\n      <th>568451</th>\n      <td>568452</td>\n      <td>B004I613EE</td>\n      <td>A121AA1GQV751Z</td>\n      <td>pksd \"pk_007\"</td>\n      <td>2</td>\n      <td>2</td>\n      <td>5</td>\n      <td>1329782400</td>\n      <td>Perfect for our maltipoo</td>\n      <td>These stars are small, so you can give 10-15 o...</td>\n    </tr>\n    <tr>\n      <th>568452</th>\n      <td>568453</td>\n      <td>B004I613EE</td>\n      <td>A3IBEVCTXKNOH</td>\n      <td>Kathy A. Welch \"katwel\"</td>\n      <td>1</td>\n      <td>1</td>\n      <td>5</td>\n      <td>1331596800</td>\n      <td>Favorite Training and reward treat</td>\n      <td>These are the BEST treats for training and rew...</td>\n    </tr>\n    <tr>\n      <th>568453</th>\n      <td>568454</td>\n      <td>B001LR2CU2</td>\n      <td>A3LGQPJCZVL9UC</td>\n      <td>srfell17</td>\n      <td>0</td>\n      <td>0</td>\n      <td>5</td>\n      <td>1338422400</td>\n      <td>Great Honey</td>\n      <td>I am very satisfied ,product is as advertised,...</td>\n    </tr>\n  </tbody>\n</table>\n<p>568454 rows × 10 columns</p>\n</div>"
          },
          "metadata": {}
        }
      ]
    },
    {
      "cell_type": "code",
      "source": [
        "#Dropping columns that are not needed\n",
        "Amazon_Reviews_dataset = Amazon_Reviews_dataset[['Id','ProductId','Score']]\n",
        "Amazon_Reviews_dataset"
      ],
      "metadata": {
        "colab": {
          "base_uri": "https://localhost:8080/",
          "height": 423
        },
        "id": "QhRzVdZF9WsN",
        "outputId": "f7d13c9e-abd4-4495-d37e-a290ffa9b6b7",
        "execution": {
          "iopub.status.busy": "2023-08-03T13:38:34.139115Z",
          "iopub.execute_input": "2023-08-03T13:38:34.139690Z",
          "iopub.status.idle": "2023-08-03T13:38:34.162525Z",
          "shell.execute_reply.started": "2023-08-03T13:38:34.139635Z",
          "shell.execute_reply": "2023-08-03T13:38:34.161360Z"
        },
        "trusted": true
      },
      "execution_count": null,
      "outputs": [
        {
          "execution_count": 4,
          "output_type": "execute_result",
          "data": {
            "text/plain": "            Id   ProductId  Score\n0            1  B001E4KFG0      5\n1            2  B00813GRG4      1\n2            3  B000LQOCH0      4\n3            4  B000UA0QIQ      2\n4            5  B006K2ZZ7K      5\n...        ...         ...    ...\n568449  568450  B001EO7N10      5\n568450  568451  B003S1WTCU      2\n568451  568452  B004I613EE      5\n568452  568453  B004I613EE      5\n568453  568454  B001LR2CU2      5\n\n[568454 rows x 3 columns]",
            "text/html": "<div>\n<style scoped>\n    .dataframe tbody tr th:only-of-type {\n        vertical-align: middle;\n    }\n\n    .dataframe tbody tr th {\n        vertical-align: top;\n    }\n\n    .dataframe thead th {\n        text-align: right;\n    }\n</style>\n<table border=\"1\" class=\"dataframe\">\n  <thead>\n    <tr style=\"text-align: right;\">\n      <th></th>\n      <th>Id</th>\n      <th>ProductId</th>\n      <th>Score</th>\n    </tr>\n  </thead>\n  <tbody>\n    <tr>\n      <th>0</th>\n      <td>1</td>\n      <td>B001E4KFG0</td>\n      <td>5</td>\n    </tr>\n    <tr>\n      <th>1</th>\n      <td>2</td>\n      <td>B00813GRG4</td>\n      <td>1</td>\n    </tr>\n    <tr>\n      <th>2</th>\n      <td>3</td>\n      <td>B000LQOCH0</td>\n      <td>4</td>\n    </tr>\n    <tr>\n      <th>3</th>\n      <td>4</td>\n      <td>B000UA0QIQ</td>\n      <td>2</td>\n    </tr>\n    <tr>\n      <th>4</th>\n      <td>5</td>\n      <td>B006K2ZZ7K</td>\n      <td>5</td>\n    </tr>\n    <tr>\n      <th>...</th>\n      <td>...</td>\n      <td>...</td>\n      <td>...</td>\n    </tr>\n    <tr>\n      <th>568449</th>\n      <td>568450</td>\n      <td>B001EO7N10</td>\n      <td>5</td>\n    </tr>\n    <tr>\n      <th>568450</th>\n      <td>568451</td>\n      <td>B003S1WTCU</td>\n      <td>2</td>\n    </tr>\n    <tr>\n      <th>568451</th>\n      <td>568452</td>\n      <td>B004I613EE</td>\n      <td>5</td>\n    </tr>\n    <tr>\n      <th>568452</th>\n      <td>568453</td>\n      <td>B004I613EE</td>\n      <td>5</td>\n    </tr>\n    <tr>\n      <th>568453</th>\n      <td>568454</td>\n      <td>B001LR2CU2</td>\n      <td>5</td>\n    </tr>\n  </tbody>\n</table>\n<p>568454 rows × 3 columns</p>\n</div>"
          },
          "metadata": {}
        }
      ]
    },
    {
      "cell_type": "code",
      "source": [
        "Amazon_Reviews_dataset = Amazon_Reviews_dataset.iloc[:15000,:]\n",
        "Amazon_Reviews_dataset"
      ],
      "metadata": {
        "execution": {
          "iopub.status.busy": "2023-08-03T13:38:34.163783Z",
          "iopub.execute_input": "2023-08-03T13:38:34.164146Z",
          "iopub.status.idle": "2023-08-03T13:38:34.180540Z",
          "shell.execute_reply.started": "2023-08-03T13:38:34.164116Z",
          "shell.execute_reply": "2023-08-03T13:38:34.179188Z"
        },
        "trusted": true,
        "id": "QrLLKl7-pRgg",
        "outputId": "6e358a4b-b85e-4998-c0a8-f770f7782c39"
      },
      "execution_count": null,
      "outputs": [
        {
          "execution_count": 5,
          "output_type": "execute_result",
          "data": {
            "text/plain": "          Id   ProductId  Score\n0          1  B001E4KFG0      5\n1          2  B00813GRG4      1\n2          3  B000LQOCH0      4\n3          4  B000UA0QIQ      2\n4          5  B006K2ZZ7K      5\n...      ...         ...    ...\n14995  14996  B000EGZ99M      5\n14996  14997  B000EGZ99M      5\n14997  14998  B000EGZ99M      5\n14998  14999  B000EGZ99M      5\n14999  15000  B000EGZ99M      5\n\n[15000 rows x 3 columns]",
            "text/html": "<div>\n<style scoped>\n    .dataframe tbody tr th:only-of-type {\n        vertical-align: middle;\n    }\n\n    .dataframe tbody tr th {\n        vertical-align: top;\n    }\n\n    .dataframe thead th {\n        text-align: right;\n    }\n</style>\n<table border=\"1\" class=\"dataframe\">\n  <thead>\n    <tr style=\"text-align: right;\">\n      <th></th>\n      <th>Id</th>\n      <th>ProductId</th>\n      <th>Score</th>\n    </tr>\n  </thead>\n  <tbody>\n    <tr>\n      <th>0</th>\n      <td>1</td>\n      <td>B001E4KFG0</td>\n      <td>5</td>\n    </tr>\n    <tr>\n      <th>1</th>\n      <td>2</td>\n      <td>B00813GRG4</td>\n      <td>1</td>\n    </tr>\n    <tr>\n      <th>2</th>\n      <td>3</td>\n      <td>B000LQOCH0</td>\n      <td>4</td>\n    </tr>\n    <tr>\n      <th>3</th>\n      <td>4</td>\n      <td>B000UA0QIQ</td>\n      <td>2</td>\n    </tr>\n    <tr>\n      <th>4</th>\n      <td>5</td>\n      <td>B006K2ZZ7K</td>\n      <td>5</td>\n    </tr>\n    <tr>\n      <th>...</th>\n      <td>...</td>\n      <td>...</td>\n      <td>...</td>\n    </tr>\n    <tr>\n      <th>14995</th>\n      <td>14996</td>\n      <td>B000EGZ99M</td>\n      <td>5</td>\n    </tr>\n    <tr>\n      <th>14996</th>\n      <td>14997</td>\n      <td>B000EGZ99M</td>\n      <td>5</td>\n    </tr>\n    <tr>\n      <th>14997</th>\n      <td>14998</td>\n      <td>B000EGZ99M</td>\n      <td>5</td>\n    </tr>\n    <tr>\n      <th>14998</th>\n      <td>14999</td>\n      <td>B000EGZ99M</td>\n      <td>5</td>\n    </tr>\n    <tr>\n      <th>14999</th>\n      <td>15000</td>\n      <td>B000EGZ99M</td>\n      <td>5</td>\n    </tr>\n  </tbody>\n</table>\n<p>15000 rows × 3 columns</p>\n</div>"
          },
          "metadata": {}
        }
      ]
    },
    {
      "cell_type": "markdown",
      "source": [
        "# Pivot Table"
      ],
      "metadata": {
        "id": "vsv9na_0GT3A"
      }
    },
    {
      "cell_type": "code",
      "source": [
        "pivot_table = Amazon_Reviews_dataset.pivot_table(index='Id', columns='ProductId', values='Score', fill_value=0)"
      ],
      "metadata": {
        "id": "ArufSJGl9WsO",
        "execution": {
          "iopub.status.busy": "2023-08-03T13:38:34.182255Z",
          "iopub.execute_input": "2023-08-03T13:38:34.182683Z",
          "iopub.status.idle": "2023-08-03T13:38:36.395357Z",
          "shell.execute_reply.started": "2023-08-03T13:38:34.182642Z",
          "shell.execute_reply": "2023-08-03T13:38:36.394496Z"
        },
        "trusted": true
      },
      "execution_count": null,
      "outputs": []
    },
    {
      "cell_type": "code",
      "source": [
        "pivot_table"
      ],
      "metadata": {
        "id": "Yz3uXdf39WsO",
        "execution": {
          "iopub.status.busy": "2023-08-03T13:38:36.396707Z",
          "iopub.execute_input": "2023-08-03T13:38:36.397809Z",
          "iopub.status.idle": "2023-08-03T13:38:36.424503Z",
          "shell.execute_reply.started": "2023-08-03T13:38:36.397766Z",
          "shell.execute_reply": "2023-08-03T13:38:36.423297Z"
        },
        "trusted": true,
        "outputId": "24183ca0-f03f-4c98-e5b1-966e75c2cf30"
      },
      "execution_count": null,
      "outputs": [
        {
          "execution_count": 7,
          "output_type": "execute_result",
          "data": {
            "text/plain": "ProductId  B00002NCJC  B00002Z754  B00005V3DC  B000084DVR  B000084E1U  \\\nId                                                                      \n1                   0           0           0           0           0   \n2                   0           0           0           0           0   \n3                   0           0           0           0           0   \n4                   0           0           0           0           0   \n5                   0           0           0           0           0   \n...               ...         ...         ...         ...         ...   \n14996               0           0           0           0           0   \n14997               0           0           0           0           0   \n14998               0           0           0           0           0   \n14999               0           0           0           0           0   \n15000               0           0           0           0           0   \n\nProductId  B000084EK4  B000084EK5  B000084EK6  B000084EK7  B000084EK8  ...  \\\nId                                                                     ...   \n1                   0           0           0           0           0  ...   \n2                   0           0           0           0           0  ...   \n3                   0           0           0           0           0  ...   \n4                   0           0           0           0           0  ...   \n5                   0           0           0           0           0  ...   \n...               ...         ...         ...         ...         ...  ...   \n14996               0           0           0           0           0  ...   \n14997               0           0           0           0           0  ...   \n14998               0           0           0           0           0  ...   \n14999               0           0           0           0           0  ...   \n15000               0           0           0           0           0  ...   \n\nProductId  B0093NIWVO  B00959DMWK  B00961CUXO  B0096E5196  B009AVDFCK  \\\nId                                                                      \n1                   0           0           0           0           0   \n2                   0           0           0           0           0   \n3                   0           0           0           0           0   \n4                   0           0           0           0           0   \n5                   0           0           0           0           0   \n...               ...         ...         ...         ...         ...   \n14996               0           0           0           0           0   \n14997               0           0           0           0           0   \n14998               0           0           0           0           0   \n14999               0           0           0           0           0   \n15000               0           0           0           0           0   \n\nProductId  B009D668KS  B009HINRX8  B009KP6HBM  B009UOFU20  B009WSNWC4  \nId                                                                     \n1                   0           0           0           0           0  \n2                   0           0           0           0           0  \n3                   0           0           0           0           0  \n4                   0           0           0           0           0  \n5                   0           0           0           0           0  \n...               ...         ...         ...         ...         ...  \n14996               0           0           0           0           0  \n14997               0           0           0           0           0  \n14998               0           0           0           0           0  \n14999               0           0           0           0           0  \n15000               0           0           0           0           0  \n\n[15000 rows x 2099 columns]",
            "text/html": "<div>\n<style scoped>\n    .dataframe tbody tr th:only-of-type {\n        vertical-align: middle;\n    }\n\n    .dataframe tbody tr th {\n        vertical-align: top;\n    }\n\n    .dataframe thead th {\n        text-align: right;\n    }\n</style>\n<table border=\"1\" class=\"dataframe\">\n  <thead>\n    <tr style=\"text-align: right;\">\n      <th>ProductId</th>\n      <th>B00002NCJC</th>\n      <th>B00002Z754</th>\n      <th>B00005V3DC</th>\n      <th>B000084DVR</th>\n      <th>B000084E1U</th>\n      <th>B000084EK4</th>\n      <th>B000084EK5</th>\n      <th>B000084EK6</th>\n      <th>B000084EK7</th>\n      <th>B000084EK8</th>\n      <th>...</th>\n      <th>B0093NIWVO</th>\n      <th>B00959DMWK</th>\n      <th>B00961CUXO</th>\n      <th>B0096E5196</th>\n      <th>B009AVDFCK</th>\n      <th>B009D668KS</th>\n      <th>B009HINRX8</th>\n      <th>B009KP6HBM</th>\n      <th>B009UOFU20</th>\n      <th>B009WSNWC4</th>\n    </tr>\n    <tr>\n      <th>Id</th>\n      <th></th>\n      <th></th>\n      <th></th>\n      <th></th>\n      <th></th>\n      <th></th>\n      <th></th>\n      <th></th>\n      <th></th>\n      <th></th>\n      <th></th>\n      <th></th>\n      <th></th>\n      <th></th>\n      <th></th>\n      <th></th>\n      <th></th>\n      <th></th>\n      <th></th>\n      <th></th>\n      <th></th>\n    </tr>\n  </thead>\n  <tbody>\n    <tr>\n      <th>1</th>\n      <td>0</td>\n      <td>0</td>\n      <td>0</td>\n      <td>0</td>\n      <td>0</td>\n      <td>0</td>\n      <td>0</td>\n      <td>0</td>\n      <td>0</td>\n      <td>0</td>\n      <td>...</td>\n      <td>0</td>\n      <td>0</td>\n      <td>0</td>\n      <td>0</td>\n      <td>0</td>\n      <td>0</td>\n      <td>0</td>\n      <td>0</td>\n      <td>0</td>\n      <td>0</td>\n    </tr>\n    <tr>\n      <th>2</th>\n      <td>0</td>\n      <td>0</td>\n      <td>0</td>\n      <td>0</td>\n      <td>0</td>\n      <td>0</td>\n      <td>0</td>\n      <td>0</td>\n      <td>0</td>\n      <td>0</td>\n      <td>...</td>\n      <td>0</td>\n      <td>0</td>\n      <td>0</td>\n      <td>0</td>\n      <td>0</td>\n      <td>0</td>\n      <td>0</td>\n      <td>0</td>\n      <td>0</td>\n      <td>0</td>\n    </tr>\n    <tr>\n      <th>3</th>\n      <td>0</td>\n      <td>0</td>\n      <td>0</td>\n      <td>0</td>\n      <td>0</td>\n      <td>0</td>\n      <td>0</td>\n      <td>0</td>\n      <td>0</td>\n      <td>0</td>\n      <td>...</td>\n      <td>0</td>\n      <td>0</td>\n      <td>0</td>\n      <td>0</td>\n      <td>0</td>\n      <td>0</td>\n      <td>0</td>\n      <td>0</td>\n      <td>0</td>\n      <td>0</td>\n    </tr>\n    <tr>\n      <th>4</th>\n      <td>0</td>\n      <td>0</td>\n      <td>0</td>\n      <td>0</td>\n      <td>0</td>\n      <td>0</td>\n      <td>0</td>\n      <td>0</td>\n      <td>0</td>\n      <td>0</td>\n      <td>...</td>\n      <td>0</td>\n      <td>0</td>\n      <td>0</td>\n      <td>0</td>\n      <td>0</td>\n      <td>0</td>\n      <td>0</td>\n      <td>0</td>\n      <td>0</td>\n      <td>0</td>\n    </tr>\n    <tr>\n      <th>5</th>\n      <td>0</td>\n      <td>0</td>\n      <td>0</td>\n      <td>0</td>\n      <td>0</td>\n      <td>0</td>\n      <td>0</td>\n      <td>0</td>\n      <td>0</td>\n      <td>0</td>\n      <td>...</td>\n      <td>0</td>\n      <td>0</td>\n      <td>0</td>\n      <td>0</td>\n      <td>0</td>\n      <td>0</td>\n      <td>0</td>\n      <td>0</td>\n      <td>0</td>\n      <td>0</td>\n    </tr>\n    <tr>\n      <th>...</th>\n      <td>...</td>\n      <td>...</td>\n      <td>...</td>\n      <td>...</td>\n      <td>...</td>\n      <td>...</td>\n      <td>...</td>\n      <td>...</td>\n      <td>...</td>\n      <td>...</td>\n      <td>...</td>\n      <td>...</td>\n      <td>...</td>\n      <td>...</td>\n      <td>...</td>\n      <td>...</td>\n      <td>...</td>\n      <td>...</td>\n      <td>...</td>\n      <td>...</td>\n      <td>...</td>\n    </tr>\n    <tr>\n      <th>14996</th>\n      <td>0</td>\n      <td>0</td>\n      <td>0</td>\n      <td>0</td>\n      <td>0</td>\n      <td>0</td>\n      <td>0</td>\n      <td>0</td>\n      <td>0</td>\n      <td>0</td>\n      <td>...</td>\n      <td>0</td>\n      <td>0</td>\n      <td>0</td>\n      <td>0</td>\n      <td>0</td>\n      <td>0</td>\n      <td>0</td>\n      <td>0</td>\n      <td>0</td>\n      <td>0</td>\n    </tr>\n    <tr>\n      <th>14997</th>\n      <td>0</td>\n      <td>0</td>\n      <td>0</td>\n      <td>0</td>\n      <td>0</td>\n      <td>0</td>\n      <td>0</td>\n      <td>0</td>\n      <td>0</td>\n      <td>0</td>\n      <td>...</td>\n      <td>0</td>\n      <td>0</td>\n      <td>0</td>\n      <td>0</td>\n      <td>0</td>\n      <td>0</td>\n      <td>0</td>\n      <td>0</td>\n      <td>0</td>\n      <td>0</td>\n    </tr>\n    <tr>\n      <th>14998</th>\n      <td>0</td>\n      <td>0</td>\n      <td>0</td>\n      <td>0</td>\n      <td>0</td>\n      <td>0</td>\n      <td>0</td>\n      <td>0</td>\n      <td>0</td>\n      <td>0</td>\n      <td>...</td>\n      <td>0</td>\n      <td>0</td>\n      <td>0</td>\n      <td>0</td>\n      <td>0</td>\n      <td>0</td>\n      <td>0</td>\n      <td>0</td>\n      <td>0</td>\n      <td>0</td>\n    </tr>\n    <tr>\n      <th>14999</th>\n      <td>0</td>\n      <td>0</td>\n      <td>0</td>\n      <td>0</td>\n      <td>0</td>\n      <td>0</td>\n      <td>0</td>\n      <td>0</td>\n      <td>0</td>\n      <td>0</td>\n      <td>...</td>\n      <td>0</td>\n      <td>0</td>\n      <td>0</td>\n      <td>0</td>\n      <td>0</td>\n      <td>0</td>\n      <td>0</td>\n      <td>0</td>\n      <td>0</td>\n      <td>0</td>\n    </tr>\n    <tr>\n      <th>15000</th>\n      <td>0</td>\n      <td>0</td>\n      <td>0</td>\n      <td>0</td>\n      <td>0</td>\n      <td>0</td>\n      <td>0</td>\n      <td>0</td>\n      <td>0</td>\n      <td>0</td>\n      <td>...</td>\n      <td>0</td>\n      <td>0</td>\n      <td>0</td>\n      <td>0</td>\n      <td>0</td>\n      <td>0</td>\n      <td>0</td>\n      <td>0</td>\n      <td>0</td>\n      <td>0</td>\n    </tr>\n  </tbody>\n</table>\n<p>15000 rows × 2099 columns</p>\n</div>"
          },
          "metadata": {}
        }
      ]
    },
    {
      "cell_type": "code",
      "source": [
        "items_similarity = cosine_similarity(pivot_table)"
      ],
      "metadata": {
        "id": "bK12HAPSRgHJ",
        "execution": {
          "iopub.status.busy": "2023-08-03T13:38:36.426005Z",
          "iopub.execute_input": "2023-08-03T13:38:36.426472Z",
          "iopub.status.idle": "2023-08-03T13:38:44.928423Z",
          "shell.execute_reply.started": "2023-08-03T13:38:36.426419Z",
          "shell.execute_reply": "2023-08-03T13:38:44.927322Z"
        },
        "trusted": true
      },
      "execution_count": null,
      "outputs": []
    },
    {
      "cell_type": "code",
      "source": [
        "# Get top-k recommendations for a given user\n",
        "user_id = 4\n",
        "k = 5"
      ],
      "metadata": {
        "id": "64qekBbWRgHJ",
        "execution": {
          "iopub.status.busy": "2023-08-03T13:38:44.929987Z",
          "iopub.execute_input": "2023-08-03T13:38:44.930349Z",
          "iopub.status.idle": "2023-08-03T13:38:44.935561Z",
          "shell.execute_reply.started": "2023-08-03T13:38:44.930317Z",
          "shell.execute_reply": "2023-08-03T13:38:44.934370Z"
        },
        "trusted": true
      },
      "execution_count": null,
      "outputs": []
    },
    {
      "cell_type": "code",
      "source": [
        "user_ratings = pivot_table.loc[user_id,:].values.reshape(1,-1)\n",
        "user_ratings"
      ],
      "metadata": {
        "id": "XYP-E4fFhBtU",
        "execution": {
          "iopub.status.busy": "2023-08-03T13:38:44.939753Z",
          "iopub.execute_input": "2023-08-03T13:38:44.940141Z",
          "iopub.status.idle": "2023-08-03T13:38:44.953468Z",
          "shell.execute_reply.started": "2023-08-03T13:38:44.940108Z",
          "shell.execute_reply": "2023-08-03T13:38:44.952370Z"
        },
        "trusted": true,
        "outputId": "9de87fab-c089-4302-83c5-ccfc58d10843"
      },
      "execution_count": null,
      "outputs": [
        {
          "execution_count": 10,
          "output_type": "execute_result",
          "data": {
            "text/plain": "array([[0, 0, 0, ..., 0, 0, 0]])"
          },
          "metadata": {}
        }
      ]
    },
    {
      "cell_type": "code",
      "source": [
        "# Calculate the similarity between the user's ratings and all items\n",
        "user_item_similarity = cosine_similarity(user_ratings,pivot_table)"
      ],
      "metadata": {
        "id": "eREHCkfPhFH7",
        "execution": {
          "iopub.status.busy": "2023-08-03T13:38:44.955383Z",
          "iopub.execute_input": "2023-08-03T13:38:44.955762Z",
          "iopub.status.idle": "2023-08-03T13:38:45.269395Z",
          "shell.execute_reply.started": "2023-08-03T13:38:44.955730Z",
          "shell.execute_reply": "2023-08-03T13:38:45.267810Z"
        },
        "trusted": true
      },
      "execution_count": null,
      "outputs": []
    },
    {
      "cell_type": "code",
      "source": [
        "# Get the indices of top-k similar items\n",
        "similar_item_indices = user_item_similarity.argsort()[0, ::-1][:k]"
      ],
      "metadata": {
        "id": "eaSOQulthFAE",
        "execution": {
          "iopub.status.busy": "2023-08-03T13:38:45.272053Z",
          "iopub.execute_input": "2023-08-03T13:38:45.273174Z",
          "iopub.status.idle": "2023-08-03T13:38:45.281125Z",
          "shell.execute_reply.started": "2023-08-03T13:38:45.273115Z",
          "shell.execute_reply": "2023-08-03T13:38:45.279667Z"
        },
        "trusted": true
      },
      "execution_count": null,
      "outputs": []
    },
    {
      "cell_type": "code",
      "source": [
        "similar_item_indices"
      ],
      "metadata": {
        "execution": {
          "iopub.status.busy": "2023-08-03T13:38:45.283642Z",
          "iopub.execute_input": "2023-08-03T13:38:45.284720Z",
          "iopub.status.idle": "2023-08-03T13:38:45.296435Z",
          "shell.execute_reply.started": "2023-08-03T13:38:45.284659Z",
          "shell.execute_reply": "2023-08-03T13:38:45.295018Z"
        },
        "trusted": true,
        "id": "VgbGArv5pRgh",
        "outputId": "b77520ab-b624-4b16-c1e3-1b530a9e2a17"
      },
      "execution_count": null,
      "outputs": [
        {
          "execution_count": 13,
          "output_type": "execute_result",
          "data": {
            "text/plain": "array([    3, 14999,  4995,  5007,  5006])"
          },
          "metadata": {}
        }
      ]
    },
    {
      "cell_type": "markdown",
      "source": [
        "# K-Means Recommendation"
      ],
      "metadata": {
        "id": "5x4B9vZjpRgh"
      }
    },
    {
      "cell_type": "code",
      "source": [
        "# Apply k-means clustering\n",
        "num_clusters = 5  # Choose the number of clusters"
      ],
      "metadata": {
        "execution": {
          "iopub.status.busy": "2023-08-03T13:38:45.298777Z",
          "iopub.execute_input": "2023-08-03T13:38:45.299891Z",
          "iopub.status.idle": "2023-08-03T13:38:45.310068Z",
          "shell.execute_reply.started": "2023-08-03T13:38:45.299818Z",
          "shell.execute_reply": "2023-08-03T13:38:45.308554Z"
        },
        "trusted": true,
        "id": "hR9oZx_-pRgi"
      },
      "execution_count": null,
      "outputs": []
    },
    {
      "cell_type": "code",
      "source": [
        "kmeans = KMeans(n_clusters=num_clusters, random_state=42)"
      ],
      "metadata": {
        "execution": {
          "iopub.status.busy": "2023-08-03T13:38:45.312617Z",
          "iopub.execute_input": "2023-08-03T13:38:45.313934Z",
          "iopub.status.idle": "2023-08-03T13:38:45.324247Z",
          "shell.execute_reply.started": "2023-08-03T13:38:45.313875Z",
          "shell.execute_reply": "2023-08-03T13:38:45.322552Z"
        },
        "trusted": true,
        "id": "Mdh0fHZOpRgi"
      },
      "execution_count": null,
      "outputs": []
    },
    {
      "cell_type": "code",
      "source": [
        "cluster_labels = kmeans.fit_predict(pivot_table)"
      ],
      "metadata": {
        "execution": {
          "iopub.status.busy": "2023-08-03T13:38:45.327724Z",
          "iopub.execute_input": "2023-08-03T13:38:45.329350Z",
          "iopub.status.idle": "2023-08-03T13:38:49.514682Z",
          "shell.execute_reply.started": "2023-08-03T13:38:45.329278Z",
          "shell.execute_reply": "2023-08-03T13:38:49.513515Z"
        },
        "trusted": true,
        "id": "JRvFHlCspRgi"
      },
      "execution_count": null,
      "outputs": []
    },
    {
      "cell_type": "code",
      "source": [
        "# Get recommendations for a given user\n",
        "user_id = 1"
      ],
      "metadata": {
        "execution": {
          "iopub.status.busy": "2023-08-03T13:38:49.516401Z",
          "iopub.execute_input": "2023-08-03T13:38:49.517093Z",
          "iopub.status.idle": "2023-08-03T13:38:49.522147Z",
          "shell.execute_reply.started": "2023-08-03T13:38:49.517028Z",
          "shell.execute_reply": "2023-08-03T13:38:49.520886Z"
        },
        "trusted": true,
        "id": "OyRVST7wpRgi"
      },
      "execution_count": null,
      "outputs": []
    },
    {
      "cell_type": "code",
      "source": [
        "# Get the cluster label for the given user\n",
        "user_cluster_label = cluster_labels[user_id - 1]"
      ],
      "metadata": {
        "execution": {
          "iopub.status.busy": "2023-08-03T13:38:49.523800Z",
          "iopub.execute_input": "2023-08-03T13:38:49.524840Z",
          "iopub.status.idle": "2023-08-03T13:38:49.537621Z",
          "shell.execute_reply.started": "2023-08-03T13:38:49.524793Z",
          "shell.execute_reply": "2023-08-03T13:38:49.536407Z"
        },
        "trusted": true,
        "id": "wDDc7izqpRgi"
      },
      "execution_count": null,
      "outputs": []
    },
    {
      "cell_type": "code",
      "source": [
        "# Get all users in the same cluster as the given user\n",
        "users_in_same_cluster = pivot_table.index[cluster_labels == user_cluster_label]"
      ],
      "metadata": {
        "execution": {
          "iopub.status.busy": "2023-08-03T13:38:49.539144Z",
          "iopub.execute_input": "2023-08-03T13:38:49.539500Z",
          "iopub.status.idle": "2023-08-03T13:38:49.555154Z",
          "shell.execute_reply.started": "2023-08-03T13:38:49.539469Z",
          "shell.execute_reply": "2023-08-03T13:38:49.554113Z"
        },
        "trusted": true,
        "id": "JAH1exWMpRgi"
      },
      "execution_count": null,
      "outputs": []
    },
    {
      "cell_type": "code",
      "source": [
        "# Get the average ratings of the users in the same cluster\n",
        "average_ratings = pivot_table.loc[users_in_same_cluster].mean()"
      ],
      "metadata": {
        "execution": {
          "iopub.status.busy": "2023-08-03T13:38:49.556364Z",
          "iopub.execute_input": "2023-08-03T13:38:49.557335Z",
          "iopub.status.idle": "2023-08-03T13:38:49.692258Z",
          "shell.execute_reply.started": "2023-08-03T13:38:49.557302Z",
          "shell.execute_reply": "2023-08-03T13:38:49.691053Z"
        },
        "trusted": true,
        "id": "y2tF_cICpRgi"
      },
      "execution_count": null,
      "outputs": []
    },
    {
      "cell_type": "code",
      "source": [
        "# Sort the average ratings in descending order\n",
        "sorted_ratings = average_ratings.sort_values(ascending=False)"
      ],
      "metadata": {
        "execution": {
          "iopub.status.busy": "2023-08-03T13:38:49.694113Z",
          "iopub.execute_input": "2023-08-03T13:38:49.694899Z",
          "iopub.status.idle": "2023-08-03T13:38:49.700613Z",
          "shell.execute_reply.started": "2023-08-03T13:38:49.694860Z",
          "shell.execute_reply": "2023-08-03T13:38:49.699399Z"
        },
        "trusted": true,
        "id": "Iu6e0scnpRgi"
      },
      "execution_count": null,
      "outputs": []
    },
    {
      "cell_type": "code",
      "source": [
        "# Get top-k recommendations\n",
        "k = 6\n",
        "top_k_recommendations = sorted_ratings.head(k)"
      ],
      "metadata": {
        "execution": {
          "iopub.status.busy": "2023-08-03T13:38:49.704194Z",
          "iopub.execute_input": "2023-08-03T13:38:49.704542Z",
          "iopub.status.idle": "2023-08-03T13:38:49.713653Z",
          "shell.execute_reply.started": "2023-08-03T13:38:49.704512Z",
          "shell.execute_reply": "2023-08-03T13:38:49.712637Z"
        },
        "trusted": true,
        "id": "d3Ct5xSepRgi"
      },
      "execution_count": null,
      "outputs": []
    },
    {
      "cell_type": "code",
      "source": [
        "# Print the top-k recommendations\n",
        "print(\"Top\", k, \"recommendations for user\", user_id, \":\")\n",
        "for product_id, rating in top_k_recommendations.items():\n",
        "    print(\"Product ID:\", product_id, \"Rating:\", rating)"
      ],
      "metadata": {
        "execution": {
          "iopub.status.busy": "2023-08-03T13:38:49.715398Z",
          "iopub.execute_input": "2023-08-03T13:38:49.716172Z",
          "iopub.status.idle": "2023-08-03T13:38:49.731438Z",
          "shell.execute_reply.started": "2023-08-03T13:38:49.716131Z",
          "shell.execute_reply": "2023-08-03T13:38:49.729893Z"
        },
        "trusted": true,
        "id": "fDuecZERpRgi",
        "outputId": "a4d2087f-1b65-4c7a-dc0f-10c9529916c8"
      },
      "execution_count": null,
      "outputs": [
        {
          "name": "stdout",
          "text": "Top 6 recommendations for user 1 :\nProduct ID: B006N3IG4K Rating: 0.12644814919468778\nProduct ID: B005K4Q1VI Rating: 0.09063294716021475\nProduct ID: B0045XE32E Rating: 0.08646510313647923\nProduct ID: B001LG945O Rating: 0.08589997174343035\nProduct ID: B003EML8PM Rating: 0.08378072901949703\nProduct ID: B004391DK0 Rating: 0.07057078270697938\n",
          "output_type": "stream"
        }
      ]
    }
  ]
}