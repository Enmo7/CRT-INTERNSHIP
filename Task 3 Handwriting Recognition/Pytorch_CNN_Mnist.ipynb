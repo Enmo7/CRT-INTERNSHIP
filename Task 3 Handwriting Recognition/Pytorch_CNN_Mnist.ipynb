{
  "nbformat": 4,
  "nbformat_minor": 0,
  "metadata": {
    "colab": {
      "provenance": [],
      "collapsed_sections": [
        "y5dvvKlbazR3",
        "SxgMnoZlbhlH",
        "IB447hNlbvIW",
        "NMibExK5cvGV",
        "uGjjTZ7jcyIO",
        "LwYGWhclcrak",
        "PhslBUpqdRh1",
        "hHI28yMseJSt",
        "1tTb6X0rdd_d",
        "bwOpbLdXePhd",
        "aI1SZ6wleV4U",
        "ArhbpL-OeeW8",
        "hSaoJA8Ce8cE",
        "qBSphYKOf6l8"
      ]
    },
    "kernelspec": {
      "name": "python3",
      "display_name": "Python 3"
    },
    "language_info": {
      "name": "python"
    }
  },
  "cells": [
    {
      "cell_type": "markdown",
      "source": [
        "# Import libraries"
      ],
      "metadata": {
        "id": "y5dvvKlbazR3"
      }
    },
    {
      "cell_type": "code",
      "execution_count": 1,
      "metadata": {
        "id": "0nuN8CgLae_A"
      },
      "outputs": [],
      "source": [
        "import torch\n",
        "from torchvision import datasets\n",
        "from torchvision.transforms import ToTensor\n",
        "import matplotlib.pyplot as plt\n",
        "from torch.utils.data import DataLoader\n",
        "import torch.nn as nn\n",
        "from torch import optim\n",
        "from torch.autograd import Variable"
      ]
    },
    {
      "cell_type": "markdown",
      "source": [
        "# Check available device"
      ],
      "metadata": {
        "id": "SxgMnoZlbhlH"
      }
    },
    {
      "cell_type": "code",
      "source": [
        "# Device configuration\n",
        "device = torch.device('cuda' if torch.cuda.is_available() else 'cpu')\n",
        "device"
      ],
      "metadata": {
        "colab": {
          "base_uri": "https://localhost:8080/"
        },
        "id": "WzS1YBKTbehc",
        "outputId": "4ae5ac61-808b-414c-cdf2-d7796c8a020b"
      },
      "execution_count": 2,
      "outputs": [
        {
          "output_type": "execute_result",
          "data": {
            "text/plain": [
              "device(type='cpu')"
            ]
          },
          "metadata": {},
          "execution_count": 2
        }
      ]
    },
    {
      "cell_type": "markdown",
      "source": [
        "# Download Dataset"
      ],
      "metadata": {
        "id": "IB447hNlbvIW"
      }
    },
    {
      "cell_type": "markdown",
      "source": [
        "## train_data"
      ],
      "metadata": {
        "id": "NMibExK5cvGV"
      }
    },
    {
      "cell_type": "code",
      "source": [
        "train_data = datasets.MNIST(\n",
        "    root = 'data',\n",
        "    train = True,\n",
        "    transform = ToTensor(),\n",
        "    download = True,\n",
        ")"
      ],
      "metadata": {
        "id": "zQGiDJnSbpsf"
      },
      "execution_count": 3,
      "outputs": []
    },
    {
      "cell_type": "code",
      "source": [
        "train_data"
      ],
      "metadata": {
        "colab": {
          "base_uri": "https://localhost:8080/"
        },
        "id": "aLRNgl6ncLum",
        "outputId": "7989a24c-de29-4491-bd64-3bbeb0325410"
      },
      "execution_count": 4,
      "outputs": [
        {
          "output_type": "execute_result",
          "data": {
            "text/plain": [
              "Dataset MNIST\n",
              "    Number of datapoints: 60000\n",
              "    Root location: data\n",
              "    Split: Train\n",
              "    StandardTransform\n",
              "Transform: ToTensor()"
            ]
          },
          "metadata": {},
          "execution_count": 4
        }
      ]
    },
    {
      "cell_type": "code",
      "source": [
        "print(train_data.data.size())"
      ],
      "metadata": {
        "colab": {
          "base_uri": "https://localhost:8080/"
        },
        "id": "MocGjzh9cVpt",
        "outputId": "e0d6f3e6-8c7d-4cc6-f652-7bb1911c1f01"
      },
      "execution_count": 5,
      "outputs": [
        {
          "output_type": "stream",
          "name": "stdout",
          "text": [
            "torch.Size([60000, 28, 28])\n"
          ]
        }
      ]
    },
    {
      "cell_type": "code",
      "source": [
        "print(train_data.targets.size())"
      ],
      "metadata": {
        "colab": {
          "base_uri": "https://localhost:8080/"
        },
        "id": "MVY2tS5VcVgd",
        "outputId": "dcf4d83c-c6f3-403b-d1e0-d70f2eae416f"
      },
      "execution_count": 6,
      "outputs": [
        {
          "output_type": "stream",
          "name": "stdout",
          "text": [
            "torch.Size([60000])\n"
          ]
        }
      ]
    },
    {
      "cell_type": "markdown",
      "source": [
        "## test_data"
      ],
      "metadata": {
        "id": "uGjjTZ7jcyIO"
      }
    },
    {
      "cell_type": "code",
      "source": [
        "test_data = datasets.MNIST(\n",
        "    root = 'data',\n",
        "    train = False,\n",
        "    transform = ToTensor()\n",
        ")"
      ],
      "metadata": {
        "id": "faxtjgtCb5Mq"
      },
      "execution_count": 7,
      "outputs": []
    },
    {
      "cell_type": "code",
      "source": [
        "test_data"
      ],
      "metadata": {
        "colab": {
          "base_uri": "https://localhost:8080/"
        },
        "id": "XJkIf0WJcEeA",
        "outputId": "625b6e1b-4bea-46d8-dfa8-c3888c0e1cd9"
      },
      "execution_count": 8,
      "outputs": [
        {
          "output_type": "execute_result",
          "data": {
            "text/plain": [
              "Dataset MNIST\n",
              "    Number of datapoints: 10000\n",
              "    Root location: data\n",
              "    Split: Test\n",
              "    StandardTransform\n",
              "Transform: ToTensor()"
            ]
          },
          "metadata": {},
          "execution_count": 8
        }
      ]
    },
    {
      "cell_type": "markdown",
      "source": [
        "# Visualization"
      ],
      "metadata": {
        "id": "LwYGWhclcrak"
      }
    },
    {
      "cell_type": "code",
      "source": [
        "plt.imshow(train_data.data[0], cmap='gray')\n",
        "plt.title('%i' % train_data.targets[0])\n",
        "plt.show()"
      ],
      "metadata": {
        "colab": {
          "base_uri": "https://localhost:8080/",
          "height": 0
        },
        "id": "KoDBU1K2cfm_",
        "outputId": "fab00bc3-b286-4ecd-f739-9364e67e4bc6"
      },
      "execution_count": 9,
      "outputs": [
        {
          "output_type": "display_data",
          "data": {
            "text/plain": [
              "<Figure size 640x480 with 1 Axes>"
            ],
            "image/png": "[encoded data removed]"
          },
          "metadata": {}
        }
      ]
    },
    {
      "cell_type": "code",
      "source": [
        "figure = plt.figure(figsize=(10, 8))\n",
        "cols, rows = 5, 5\n",
        "for i in range(1, cols * rows + 1):\n",
        "    sample_idx = torch.randint(len(train_data), size=(1,)).item()\n",
        "    img, label = train_data[sample_idx]\n",
        "    figure.add_subplot(rows, cols, i)\n",
        "    plt.title(label)\n",
        "    plt.axis(\"off\")\n",
        "    plt.imshow(img.squeeze(), cmap=\"gray\")\n",
        "plt.show()"
      ],
      "metadata": {
        "colab": {
          "base_uri": "https://localhost:8080/",
          "height": 0
        },
        "id": "wt7kr1YPc-qz",
        "outputId": "2c3a3f12-3a21-4de4-ab42-6bbf599cdf47"
      },
      "execution_count": 10,
      "outputs": [
        {
          "output_type": "display_data",
          "data": {
            "text/plain": [
              "<Figure size 1000x800 with 25 Axes>"
            ],
            "image/png": "[encoded data removed]"
          },
          "metadata": {}
        }
      ]
    },
    {
      "cell_type": "markdown",
      "source": [
        "# DataLoaders"
      ],
      "metadata": {
        "id": "PhslBUpqdRh1"
      }
    },
    {
      "cell_type": "code",
      "source": [
        "loaders = {\n",
        "    'train' : torch.utils.data.DataLoader(train_data,\n",
        "                                          batch_size=100,\n",
        "                                          shuffle=True,\n",
        "                                          num_workers=1),\n",
        "\n",
        "    'test'  : torch.utils.data.DataLoader(test_data,\n",
        "                                          batch_size=100,\n",
        "                                          shuffle=True,\n",
        "                                          num_workers=1),\n",
        "}"
      ],
      "metadata": {
        "id": "kNduD3eNdCqq"
      },
      "execution_count": 11,
      "outputs": []
    },
    {
      "cell_type": "code",
      "source": [
        "loaders"
      ],
      "metadata": {
        "colab": {
          "base_uri": "https://localhost:8080/"
        },
        "id": "PrA1PF0ddZsC",
        "outputId": "c87f3aee-9270-4f23-db34-ebf19277bf82"
      },
      "execution_count": 12,
      "outputs": [
        {
          "output_type": "execute_result",
          "data": {
            "text/plain": [
              "{'train': <torch.utils.data.dataloader.DataLoader at 0x78565fc35b40>,\n",
              " 'test': <torch.utils.data.dataloader.DataLoader at 0x78565fc34c70>}"
            ]
          },
          "metadata": {},
          "execution_count": 12
        }
      ]
    },
    {
      "cell_type": "markdown",
      "source": [
        "# Model"
      ],
      "metadata": {
        "id": "hHI28yMseJSt"
      }
    },
    {
      "cell_type": "markdown",
      "source": [
        "## Define the Convolutional Neural Network model"
      ],
      "metadata": {
        "id": "1tTb6X0rdd_d"
      }
    },
    {
      "cell_type": "code",
      "source": [
        "class CNN(nn.Module):\n",
        "    def __init__(self):\n",
        "        super(CNN, self).__init__()\n",
        "        self.conv1 = nn.Sequential(\n",
        "            nn.Conv2d(\n",
        "                in_channels=1,\n",
        "                out_channels=16,\n",
        "                kernel_size=5,\n",
        "                stride=1,\n",
        "                padding=2,\n",
        "            ),\n",
        "            nn.ReLU(),\n",
        "            nn.MaxPool2d(kernel_size=2),\n",
        "        )\n",
        "        self.conv2 = nn.Sequential(\n",
        "            nn.Conv2d(16, 32, 5, 1, 2),\n",
        "            nn.ReLU(),\n",
        "            nn.MaxPool2d(2),\n",
        "        )\n",
        "        # fully connected layer, output 10 classes\n",
        "        self.out = nn.Linear(32 * 7 * 7, 10)\n",
        "    def forward(self, x):\n",
        "        x = self.conv1(x)\n",
        "        x = self.conv2(x)\n",
        "        # flatten the output of conv2 to (batch_size, 32 * 7 * 7)\n",
        "        x = x.view(x.size(0), -1)\n",
        "        output = self.out(x)\n",
        "        return output, x    # return x for visualization"
      ],
      "metadata": {
        "id": "eDgsgYIQdaWY"
      },
      "execution_count": 13,
      "outputs": []
    },
    {
      "cell_type": "code",
      "source": [
        "cnn = CNN()"
      ],
      "metadata": {
        "id": "kLU2D_vud5hK"
      },
      "execution_count": 14,
      "outputs": []
    },
    {
      "cell_type": "code",
      "source": [
        "print(cnn)"
      ],
      "metadata": {
        "colab": {
          "base_uri": "https://localhost:8080/"
        },
        "id": "tPqFB3jKd8RF",
        "outputId": "96a6ae68-ac08-4543-ce24-42e7dd397b01"
      },
      "execution_count": 15,
      "outputs": [
        {
          "output_type": "stream",
          "name": "stdout",
          "text": [
            "CNN(\n",
            "  (conv1): Sequential(\n",
            "    (0): Conv2d(1, 16, kernel_size=(5, 5), stride=(1, 1), padding=(2, 2))\n",
            "    (1): ReLU()\n",
            "    (2): MaxPool2d(kernel_size=2, stride=2, padding=0, dilation=1, ceil_mode=False)\n",
            "  )\n",
            "  (conv2): Sequential(\n",
            "    (0): Conv2d(16, 32, kernel_size=(5, 5), stride=(1, 1), padding=(2, 2))\n",
            "    (1): ReLU()\n",
            "    (2): MaxPool2d(kernel_size=2, stride=2, padding=0, dilation=1, ceil_mode=False)\n",
            "  )\n",
            "  (out): Linear(in_features=1568, out_features=10, bias=True)\n",
            ")\n"
          ]
        }
      ]
    },
    {
      "cell_type": "markdown",
      "source": [
        "## Define loss function\n"
      ],
      "metadata": {
        "id": "bwOpbLdXePhd"
      }
    },
    {
      "cell_type": "code",
      "source": [
        "# Define loss function\n",
        "loss_func = nn.CrossEntropyLoss()\n",
        "loss_func"
      ],
      "metadata": {
        "colab": {
          "base_uri": "https://localhost:8080/"
        },
        "id": "E1Nqhnkpd9Ez",
        "outputId": "14a9478a-cb00-4b44-85b4-400dfca561a8"
      },
      "execution_count": 16,
      "outputs": [
        {
          "output_type": "execute_result",
          "data": {
            "text/plain": [
              "CrossEntropyLoss()"
            ]
          },
          "metadata": {},
          "execution_count": 16
        }
      ]
    },
    {
      "cell_type": "markdown",
      "source": [
        "## Define a Optimization Function"
      ],
      "metadata": {
        "id": "aI1SZ6wleV4U"
      }
    },
    {
      "cell_type": "code",
      "source": [
        "optimizer = optim.Adam(cnn.parameters(), lr = 0.01)\n",
        "optimizer"
      ],
      "metadata": {
        "colab": {
          "base_uri": "https://localhost:8080/"
        },
        "id": "eRYV_UXzeEOB",
        "outputId": "4aac80e9-971e-4ae5-eabd-dc56dfddbfaf"
      },
      "execution_count": 17,
      "outputs": [
        {
          "output_type": "execute_result",
          "data": {
            "text/plain": [
              "Adam (\n",
              "Parameter Group 0\n",
              "    amsgrad: False\n",
              "    betas: (0.9, 0.999)\n",
              "    capturable: False\n",
              "    differentiable: False\n",
              "    eps: 1e-08\n",
              "    foreach: None\n",
              "    fused: None\n",
              "    lr: 0.01\n",
              "    maximize: False\n",
              "    weight_decay: 0\n",
              ")"
            ]
          },
          "metadata": {},
          "execution_count": 17
        }
      ]
    },
    {
      "cell_type": "markdown",
      "source": [
        "# Train the model"
      ],
      "metadata": {
        "id": "ArhbpL-OeeW8"
      }
    },
    {
      "cell_type": "code",
      "source": [
        "num_epochs = 10\n",
        "def train(num_epochs, cnn, loaders):\n",
        "\n",
        "    cnn.train()\n",
        "\n",
        "    # Train the model\n",
        "    total_step = len(loaders['train'])\n",
        "\n",
        "    for epoch in range(num_epochs):\n",
        "        for i, (images, labels) in enumerate(loaders['train']):\n",
        "\n",
        "            # gives batch data, normalize x when iterate train_loader\n",
        "            b_x = Variable(images)   # batch x\n",
        "            b_y = Variable(labels)   # batch y\n",
        "            output = cnn(b_x)[0]\n",
        "            loss = loss_func(output, b_y)\n",
        "\n",
        "            # clear gradients for this training step\n",
        "            optimizer.zero_grad()\n",
        "\n",
        "            # backpropagation, compute gradients\n",
        "            loss.backward()\n",
        "            # apply gradients\n",
        "            optimizer.step()\n",
        "\n",
        "            if (i+1) % 100 == 0:\n",
        "                print ('Epoch [{}/{}], Step [{}/{}], Loss: {:.4f}'\n",
        "                       .format(epoch + 1, num_epochs, i + 1, total_step, loss.item()))\n",
        "            pass\n",
        "\n",
        "        pass\n",
        "\n",
        "\n",
        "    pass"
      ],
      "metadata": {
        "id": "nUEXrBM3eaW2"
      },
      "execution_count": 18,
      "outputs": []
    },
    {
      "cell_type": "code",
      "source": [
        "train(num_epochs, cnn, loaders)"
      ],
      "metadata": {
        "colab": {
          "base_uri": "https://localhost:8080/"
        },
        "id": "NlGHG_-lewXq",
        "outputId": "a300c948-e3ff-4732-df04-8dfb678abe26"
      },
      "execution_count": 19,
      "outputs": [
        {
          "output_type": "stream",
          "name": "stdout",
          "text": [
            "Epoch [1/10], Step [100/600], Loss: 0.2310\n",
            "Epoch [1/10], Step [200/600], Loss: 0.1429\n",
            "Epoch [1/10], Step [300/600], Loss: 0.0828\n",
            "Epoch [1/10], Step [400/600], Loss: 0.1309\n",
            "Epoch [1/10], Step [500/600], Loss: 0.0308\n",
            "Epoch [1/10], Step [600/600], Loss: 0.0497\n",
            "Epoch [2/10], Step [100/600], Loss: 0.1015\n",
            "Epoch [2/10], Step [200/600], Loss: 0.0424\n",
            "Epoch [2/10], Step [300/600], Loss: 0.1213\n",
            "Epoch [2/10], Step [400/600], Loss: 0.1122\n",
            "Epoch [2/10], Step [500/600], Loss: 0.0459\n",
            "Epoch [2/10], Step [600/600], Loss: 0.0468\n",
            "Epoch [3/10], Step [100/600], Loss: 0.0357\n",
            "Epoch [3/10], Step [200/600], Loss: 0.0494\n",
            "Epoch [3/10], Step [300/600], Loss: 0.0396\n",
            "Epoch [3/10], Step [400/600], Loss: 0.0463\n",
            "Epoch [3/10], Step [500/600], Loss: 0.0368\n",
            "Epoch [3/10], Step [600/600], Loss: 0.0358\n",
            "Epoch [4/10], Step [100/600], Loss: 0.0104\n",
            "Epoch [4/10], Step [200/600], Loss: 0.0373\n",
            "Epoch [4/10], Step [300/600], Loss: 0.0408\n",
            "Epoch [4/10], Step [400/600], Loss: 0.0449\n",
            "Epoch [4/10], Step [500/600], Loss: 0.0075\n",
            "Epoch [4/10], Step [600/600], Loss: 0.0291\n",
            "Epoch [5/10], Step [100/600], Loss: 0.0476\n",
            "Epoch [5/10], Step [200/600], Loss: 0.0946\n",
            "Epoch [5/10], Step [300/600], Loss: 0.0062\n",
            "Epoch [5/10], Step [400/600], Loss: 0.0151\n",
            "Epoch [5/10], Step [500/600], Loss: 0.0271\n",
            "Epoch [5/10], Step [600/600], Loss: 0.0537\n",
            "Epoch [6/10], Step [100/600], Loss: 0.0818\n",
            "Epoch [6/10], Step [200/600], Loss: 0.0412\n",
            "Epoch [6/10], Step [300/600], Loss: 0.0967\n",
            "Epoch [6/10], Step [400/600], Loss: 0.0020\n",
            "Epoch [6/10], Step [500/600], Loss: 0.0300\n",
            "Epoch [6/10], Step [600/600], Loss: 0.0304\n",
            "Epoch [7/10], Step [100/600], Loss: 0.0010\n",
            "Epoch [7/10], Step [200/600], Loss: 0.0078\n",
            "Epoch [7/10], Step [300/600], Loss: 0.0411\n",
            "Epoch [7/10], Step [400/600], Loss: 0.0080\n",
            "Epoch [7/10], Step [500/600], Loss: 0.0013\n",
            "Epoch [7/10], Step [600/600], Loss: 0.0916\n",
            "Epoch [8/10], Step [100/600], Loss: 0.0052\n",
            "Epoch [8/10], Step [200/600], Loss: 0.0016\n",
            "Epoch [8/10], Step [300/600], Loss: 0.0319\n",
            "Epoch [8/10], Step [400/600], Loss: 0.0532\n",
            "Epoch [8/10], Step [500/600], Loss: 0.0782\n",
            "Epoch [8/10], Step [600/600], Loss: 0.0221\n",
            "Epoch [9/10], Step [100/600], Loss: 0.1253\n",
            "Epoch [9/10], Step [200/600], Loss: 0.0410\n",
            "Epoch [9/10], Step [300/600], Loss: 0.0303\n",
            "Epoch [9/10], Step [400/600], Loss: 0.0404\n",
            "Epoch [9/10], Step [500/600], Loss: 0.0248\n",
            "Epoch [9/10], Step [600/600], Loss: 0.0221\n",
            "Epoch [10/10], Step [100/600], Loss: 0.0431\n",
            "Epoch [10/10], Step [200/600], Loss: 0.0014\n",
            "Epoch [10/10], Step [300/600], Loss: 0.0800\n",
            "Epoch [10/10], Step [400/600], Loss: 0.0790\n",
            "Epoch [10/10], Step [500/600], Loss: 0.0063\n",
            "Epoch [10/10], Step [600/600], Loss: 0.0460\n"
          ]
        }
      ]
    },
    {
      "cell_type": "markdown",
      "source": [
        "# Evaluate the model on test data"
      ],
      "metadata": {
        "id": "hSaoJA8Ce8cE"
      }
    },
    {
      "cell_type": "code",
      "source": [
        "def test():\n",
        "    # Test the model\n",
        "    cnn.eval()\n",
        "    with torch.no_grad():\n",
        "        correct = 0\n",
        "        total = 0\n",
        "        for images, labels in loaders['test']:\n",
        "            test_output, last_layer = cnn(images)\n",
        "            pred_y = torch.max(test_output, 1)[1].data.squeeze()\n",
        "            accuracy = (pred_y == labels).sum().item() / float(labels.size(0))\n",
        "            pass\n",
        "            print('Test Accuracy of the model on the 10000 test images: %.2f' % accuracy)\n",
        "\n",
        "    pass"
      ],
      "metadata": {
        "id": "XjvvxycBex6Y"
      },
      "execution_count": 20,
      "outputs": []
    },
    {
      "cell_type": "code",
      "source": [
        "test()"
      ],
      "metadata": {
        "colab": {
          "base_uri": "https://localhost:8080/"
        },
        "id": "MSzPJPsOfzjF",
        "outputId": "62befe84-7282-4639-b345-32f98c5de8fd"
      },
      "execution_count": 21,
      "outputs": [
        {
          "output_type": "stream",
          "name": "stdout",
          "text": [
            "Test Accuracy of the model on the 10000 test images: 0.97\n",
            "Test Accuracy of the model on the 10000 test images: 0.96\n",
            "Test Accuracy of the model on the 10000 test images: 0.99\n",
            "Test Accuracy of the model on the 10000 test images: 0.99\n",
            "Test Accuracy of the model on the 10000 test images: 1.00\n",
            "Test Accuracy of the model on the 10000 test images: 0.98\n",
            "Test Accuracy of the model on the 10000 test images: 0.99\n",
            "Test Accuracy of the model on the 10000 test images: 0.98\n",
            "Test Accuracy of the model on the 10000 test images: 0.95\n",
            "Test Accuracy of the model on the 10000 test images: 0.98\n",
            "Test Accuracy of the model on the 10000 test images: 1.00\n",
            "Test Accuracy of the model on the 10000 test images: 0.98\n",
            "Test Accuracy of the model on the 10000 test images: 1.00\n",
            "Test Accuracy of the model on the 10000 test images: 0.97\n",
            "Test Accuracy of the model on the 10000 test images: 0.99\n",
            "Test Accuracy of the model on the 10000 test images: 1.00\n",
            "Test Accuracy of the model on the 10000 test images: 0.99\n",
            "Test Accuracy of the model on the 10000 test images: 0.99\n",
            "Test Accuracy of the model on the 10000 test images: 1.00\n",
            "Test Accuracy of the model on the 10000 test images: 0.98\n",
            "Test Accuracy of the model on the 10000 test images: 1.00\n",
            "Test Accuracy of the model on the 10000 test images: 0.99\n",
            "Test Accuracy of the model on the 10000 test images: 0.98\n",
            "Test Accuracy of the model on the 10000 test images: 0.96\n",
            "Test Accuracy of the model on the 10000 test images: 0.99\n",
            "Test Accuracy of the model on the 10000 test images: 1.00\n",
            "Test Accuracy of the model on the 10000 test images: 0.99\n",
            "Test Accuracy of the model on the 10000 test images: 0.99\n",
            "Test Accuracy of the model on the 10000 test images: 0.99\n",
            "Test Accuracy of the model on the 10000 test images: 0.99\n",
            "Test Accuracy of the model on the 10000 test images: 0.97\n",
            "Test Accuracy of the model on the 10000 test images: 0.98\n",
            "Test Accuracy of the model on the 10000 test images: 0.95\n",
            "Test Accuracy of the model on the 10000 test images: 1.00\n",
            "Test Accuracy of the model on the 10000 test images: 0.99\n",
            "Test Accuracy of the model on the 10000 test images: 0.98\n",
            "Test Accuracy of the model on the 10000 test images: 0.98\n",
            "Test Accuracy of the model on the 10000 test images: 1.00\n",
            "Test Accuracy of the model on the 10000 test images: 1.00\n",
            "Test Accuracy of the model on the 10000 test images: 1.00\n",
            "Test Accuracy of the model on the 10000 test images: 0.98\n",
            "Test Accuracy of the model on the 10000 test images: 0.98\n",
            "Test Accuracy of the model on the 10000 test images: 0.96\n",
            "Test Accuracy of the model on the 10000 test images: 0.95\n",
            "Test Accuracy of the model on the 10000 test images: 1.00\n",
            "Test Accuracy of the model on the 10000 test images: 0.99\n",
            "Test Accuracy of the model on the 10000 test images: 1.00\n",
            "Test Accuracy of the model on the 10000 test images: 0.98\n",
            "Test Accuracy of the model on the 10000 test images: 0.98\n",
            "Test Accuracy of the model on the 10000 test images: 1.00\n",
            "Test Accuracy of the model on the 10000 test images: 0.97\n",
            "Test Accuracy of the model on the 10000 test images: 0.99\n",
            "Test Accuracy of the model on the 10000 test images: 0.99\n",
            "Test Accuracy of the model on the 10000 test images: 0.97\n",
            "Test Accuracy of the model on the 10000 test images: 0.97\n",
            "Test Accuracy of the model on the 10000 test images: 0.97\n",
            "Test Accuracy of the model on the 10000 test images: 0.99\n",
            "Test Accuracy of the model on the 10000 test images: 0.97\n",
            "Test Accuracy of the model on the 10000 test images: 0.98\n",
            "Test Accuracy of the model on the 10000 test images: 0.99\n",
            "Test Accuracy of the model on the 10000 test images: 0.95\n",
            "Test Accuracy of the model on the 10000 test images: 0.99\n",
            "Test Accuracy of the model on the 10000 test images: 0.99\n",
            "Test Accuracy of the model on the 10000 test images: 0.98\n",
            "Test Accuracy of the model on the 10000 test images: 0.97\n",
            "Test Accuracy of the model on the 10000 test images: 0.98\n",
            "Test Accuracy of the model on the 10000 test images: 1.00\n",
            "Test Accuracy of the model on the 10000 test images: 0.99\n",
            "Test Accuracy of the model on the 10000 test images: 0.98\n",
            "Test Accuracy of the model on the 10000 test images: 0.99\n",
            "Test Accuracy of the model on the 10000 test images: 0.99\n",
            "Test Accuracy of the model on the 10000 test images: 0.97\n",
            "Test Accuracy of the model on the 10000 test images: 1.00\n",
            "Test Accuracy of the model on the 10000 test images: 1.00\n",
            "Test Accuracy of the model on the 10000 test images: 1.00\n",
            "Test Accuracy of the model on the 10000 test images: 0.99\n",
            "Test Accuracy of the model on the 10000 test images: 0.98\n",
            "Test Accuracy of the model on the 10000 test images: 0.97\n",
            "Test Accuracy of the model on the 10000 test images: 0.98\n",
            "Test Accuracy of the model on the 10000 test images: 0.99\n",
            "Test Accuracy of the model on the 10000 test images: 0.99\n",
            "Test Accuracy of the model on the 10000 test images: 0.99\n",
            "Test Accuracy of the model on the 10000 test images: 0.99\n",
            "Test Accuracy of the model on the 10000 test images: 0.95\n",
            "Test Accuracy of the model on the 10000 test images: 0.97\n",
            "Test Accuracy of the model on the 10000 test images: 0.99\n",
            "Test Accuracy of the model on the 10000 test images: 1.00\n",
            "Test Accuracy of the model on the 10000 test images: 0.98\n",
            "Test Accuracy of the model on the 10000 test images: 0.98\n",
            "Test Accuracy of the model on the 10000 test images: 1.00\n",
            "Test Accuracy of the model on the 10000 test images: 0.98\n",
            "Test Accuracy of the model on the 10000 test images: 0.99\n",
            "Test Accuracy of the model on the 10000 test images: 0.99\n",
            "Test Accuracy of the model on the 10000 test images: 0.99\n",
            "Test Accuracy of the model on the 10000 test images: 1.00\n",
            "Test Accuracy of the model on the 10000 test images: 0.99\n",
            "Test Accuracy of the model on the 10000 test images: 0.99\n",
            "Test Accuracy of the model on the 10000 test images: 0.99\n",
            "Test Accuracy of the model on the 10000 test images: 0.98\n",
            "Test Accuracy of the model on the 10000 test images: 0.98\n"
          ]
        }
      ]
    },
    {
      "cell_type": "markdown",
      "source": [
        "# Print 10 predictions from test data"
      ],
      "metadata": {
        "id": "qBSphYKOf6l8"
      }
    },
    {
      "cell_type": "code",
      "source": [
        "sample = next(iter(loaders['test']))\n",
        "imgs, lbls = sample"
      ],
      "metadata": {
        "id": "IiU784ZZf0jS"
      },
      "execution_count": 22,
      "outputs": []
    },
    {
      "cell_type": "code",
      "source": [
        "actual_number = lbls[:10].numpy()\n",
        "actual_number"
      ],
      "metadata": {
        "colab": {
          "base_uri": "https://localhost:8080/"
        },
        "id": "__x9gjERf_Wg",
        "outputId": "3e32cc51-1e73-4f33-c32f-280d55c081e1"
      },
      "execution_count": 23,
      "outputs": [
        {
          "output_type": "execute_result",
          "data": {
            "text/plain": [
              "array([3, 1, 5, 2, 7, 9, 3, 5, 8, 3])"
            ]
          },
          "metadata": {},
          "execution_count": 23
        }
      ]
    },
    {
      "cell_type": "code",
      "source": [
        "test_output, last_layer = cnn(imgs[:10])\n",
        "pred_y = torch.max(test_output, 1)[1].data.numpy().squeeze()\n",
        "print(f'Prediction number: {pred_y}')\n",
        "print(f'Actual number: {actual_number}')"
      ],
      "metadata": {
        "colab": {
          "base_uri": "https://localhost:8080/"
        },
        "id": "hhiR2eO6gCBK",
        "outputId": "6cd42960-6f33-4ef3-9215-acbc875274d4"
      },
      "execution_count": 24,
      "outputs": [
        {
          "output_type": "stream",
          "name": "stdout",
          "text": [
            "Prediction number: [3 1 5 1 7 9 3 5 8 3]\n",
            "Actual number: [3 1 5 2 7 9 3 5 8 3]\n"
          ]
        }
      ]
    }
  ]
}